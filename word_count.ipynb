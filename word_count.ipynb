{
 "cells": [
  {
   "cell_type": "code",
   "execution_count": 1,
   "metadata": {
    "ExecuteTime": {
     "end_time": "2018-07-09T08:38:51.390937Z",
     "start_time": "2018-07-09T08:38:51.150909Z"
    },
    "collapsed": true
   },
   "outputs": [],
   "source": [
    "from collections import Counter\n",
    "import networkx as nx\n",
    "import pickle"
   ]
  },
  {
   "cell_type": "code",
   "execution_count": 2,
   "metadata": {
    "ExecuteTime": {
     "end_time": "2018-07-09T08:39:10.249402Z",
     "start_time": "2018-07-09T08:38:51.716747Z"
    },
    "collapsed": true
   },
   "outputs": [],
   "source": [
    "with open(\"./preprocessed_bitcoin.pkl\", 'rb') as f:\n",
    "    data = pickle.load(f)\n",
    "\n",
    "voca2idx = {w: i for i, w in enumerate(data['voca'])}\n",
    "voca = data['voca']"
   ]
  },
  {
   "cell_type": "code",
   "execution_count": 3,
   "metadata": {
    "ExecuteTime": {
     "end_time": "2018-07-09T08:39:41.109632Z",
     "start_time": "2018-07-09T08:39:29.063888Z"
    },
    "collapsed": true
   },
   "outputs": [],
   "source": [
    "# user_score = nx.pagerank(data['user_network'], tol=1e-8, max_iter=200)\n",
    "hubs, user_score = nx.hits(data['user_network'], max_iter=500)\n",
    "total_user_num = len(data['user_network'].nodes())\n",
    "top_users = sorted(user_score, key=user_score.get, reverse=True)"
   ]
  },
  {
   "cell_type": "code",
   "execution_count": 4,
   "metadata": {
    "ExecuteTime": {
     "end_time": "2018-07-09T08:40:02.029929Z",
     "start_time": "2018-07-09T08:40:00.183464Z"
    }
   },
   "outputs": [
    {
     "name": "stdout",
     "output_type": "stream",
     "text": [
      "3636\n"
     ]
    }
   ],
   "source": [
    "# 상위 유저 분석!\n",
    "acc_sum = 0\n",
    "top_index = 0\n",
    "score_sum = sum(user_score.values())\n",
    "for i, top_user in enumerate(top_users):\n",
    "    acc_sum += user_score[top_user]/score_sum\n",
    "    if acc_sum > 0.8:\n",
    "        top_index = i\n",
    "        break\n",
    "\n",
    "print(top_index)\n",
    "top_users = top_users[:top_index]\n",
    "\n",
    "top_count = Counter()\n",
    "for user in top_users:\n",
    "    for post in data['user_posts'][user]:\n",
    "        top_count.update(post)"
   ]
  },
  {
   "cell_type": "code",
   "execution_count": 5,
   "metadata": {
    "ExecuteTime": {
     "end_time": "2018-07-09T08:40:18.553991Z",
     "start_time": "2018-07-09T08:40:18.544947Z"
    }
   },
   "outputs": [
    {
     "data": {
      "text/plain": [
       "32304"
      ]
     },
     "execution_count": 5,
     "metadata": {},
     "output_type": "execute_result"
    }
   ],
   "source": [
    "total_user_num "
   ]
  },
  {
   "cell_type": "code",
   "execution_count": 6,
   "metadata": {
    "ExecuteTime": {
     "end_time": "2018-07-09T08:40:36.624645Z",
     "start_time": "2018-07-09T08:40:35.174962Z"
    },
    "collapsed": true
   },
   "outputs": [],
   "source": [
    "# 하위 유저 분석!\n",
    "low_users = sorted(user_score, key=user_score.get, reverse=False)[:-top_index]\n",
    "\n",
    "low_count = Counter()\n",
    "for user in low_users:\n",
    "    for post in data['user_posts'][user]:\n",
    "        low_count.update(post)"
   ]
  },
  {
   "cell_type": "code",
   "execution_count": 7,
   "metadata": {
    "ExecuteTime": {
     "end_time": "2018-07-09T08:40:54.828822Z",
     "start_time": "2018-07-09T08:40:52.716807Z"
    },
    "collapsed": true
   },
   "outputs": [],
   "source": [
    "keyword_ratio = dict()\n",
    "for keyword in top_count.keys():\n",
    "    top_ratio = top_count[keyword]/sum(top_count.values())\n",
    "    low_ratio = low_count[keyword]/sum(low_count.values())\n",
    "    \n",
    "    keyword_ratio[keyword] = (top_ratio, low_ratio)"
   ]
  },
  {
   "cell_type": "code",
   "execution_count": 8,
   "metadata": {
    "ExecuteTime": {
     "end_time": "2018-07-09T08:27:35.675141Z",
     "start_time": "2018-07-09T08:27:35.610369Z"
    }
   },
   "outputs": [
    {
     "name": "stdout",
     "output_type": "stream",
     "text": [
      "keywords that are more frequently said by top user\n",
      "block: 0.448%, 0.311%, more than 43.750%\n",
      "node: 0.168%, 0.092%, more than 82.437%\n",
      "core: 0.136%, 0.067%, more than 102.242%\n",
      "miner: 0.258%, 0.202%, more than 27.712%\n",
      "segwit: 0.132%, 0.078%, more than 68.257%\n",
      "chain: 0.149%, 0.105%, more than 41.753%\n",
      "network: 0.261%, 0.219%, more than 19.300%\n",
      "consensus: 0.060%, 0.024%, more than 153.819%\n",
      "code: 0.129%, 0.094%, more than 37.817%\n",
      "size: 0.101%, 0.067%, more than 52.341%\n",
      "satoshi: 0.189%, 0.155%, more than 21.729%\n",
      "bank: 0.325%, 0.296%, more than 9.932%\n",
      "solution: 0.099%, 0.074%, more than 32.666%\n",
      "full: 0.098%, 0.074%, more than 31.954%\n",
      "change: 0.181%, 0.158%, more than 14.943%\n",
      "foundation: 0.053%, 0.030%, more than 78.966%\n",
      "blockstream: 0.030%, 0.007%, more than 331.755%\n",
      "limit: 0.074%, 0.051%, more than 44.155%\n",
      "fund: 0.133%, 0.111%, more than 19.850%\n",
      "blockchain: 0.270%, 0.248%, more than 8.777%\n",
      "gavin: 0.041%, 0.019%, more than 110.656%\n",
      "system: 0.246%, 0.225%, more than 9.425%\n",
      "merchant: 0.087%, 0.067%, more than 30.487%\n",
      "developer: 0.065%, 0.045%, more than 44.395%\n",
      "franky: 0.037%, 0.017%, more than 114.226%\n",
      "bip: 0.036%, 0.017%, more than 106.155%\n",
      "blocksize: 0.029%, 0.011%, more than 153.469%\n",
      "protocol: 0.061%, 0.043%, more than 40.461%\n",
      "business: 0.179%, 0.162%, more than 10.654%\n",
      "pool: 0.096%, 0.079%, more than 21.213%\n",
      "\n",
      "keywords that are more frequently said by low user\n",
      "bitcoin: 3.650%, 4.166%, more than 14.135%\n",
      "price: 0.410%, 0.608%, more than 48.388%\n",
      "btc: 0.682%, 0.831%, more than 21.902%\n",
      "wallet: 0.435%, 0.548%, more than 25.966%\n",
      "good: 0.384%, 0.476%, more than 23.942%\n",
      "crypto: 0.116%, 0.202%, more than 73.516%\n",
      "buy: 0.267%, 0.350%, more than 30.846%\n",
      "country: 0.167%, 0.249%, more than 48.994%\n",
      "now: 0.513%, 0.594%, more than 15.795%\n",
      "money: 0.533%, 0.610%, more than 14.523%\n",
      "know: 0.489%, 0.562%, more than 14.820%\n",
      "currency: 0.412%, 0.484%, more than 17.502%\n",
      "coin: 0.490%, 0.557%, more than 13.796%\n",
      "market: 0.243%, 0.304%, more than 25.160%\n",
      "time: 0.571%, 0.628%, more than 9.991%\n",
      "invest: 0.051%, 0.106%, more than 109.917%\n",
      "high: 0.122%, 0.171%, more than 40.331%\n",
      "future: 0.165%, 0.212%, more than 28.471%\n",
      "sell: 0.141%, 0.186%, more than 32.442%\n",
      "use: 0.504%, 0.549%, more than 8.787%\n",
      "transaction: 0.621%, 0.664%, more than 6.938%\n",
      "cryptocurrency: 0.073%, 0.115%, more than 58.656%\n",
      "sure: 0.200%, 0.242%, more than 20.940%\n",
      "investment: 0.087%, 0.128%, more than 47.495%\n",
      "trading: 0.089%, 0.131%, more than 46.004%\n",
      "exchange: 0.338%, 0.378%, more than 11.921%\n",
      "profit: 0.094%, 0.134%, more than 42.455%\n",
      "fee: 0.360%, 0.399%, more than 10.679%\n",
      "news: 0.117%, 0.155%, more than 32.791%\n",
      "happen: 0.121%, 0.158%, more than 30.659%\n"
     ]
    }
   ],
   "source": [
    "print(\"keywords that are more frequently said by top user\")\n",
    "keyword_ratio_sorted = sorted(keyword_ratio.items(), key=lambda x: x[1][0] - x[1][1], reverse=True)[:30]\n",
    "for keyword, (top_ratio, low_ratio)in keyword_ratio_sorted:\n",
    "    print(\"{}: {:.3f}%, {:.3f}%, more than {:.3f}%\".format(keyword, top_ratio*100, low_ratio*100, (top_ratio - low_ratio)/low_ratio*100))\n",
    "\n",
    "print()\n",
    "print(\"keywords that are more frequently said by low user\")    \n",
    "keyword_ratio_sorted = sorted(keyword_ratio.items(), key=lambda x: x[1][1] - x[1][0], reverse=True)[:30]\n",
    "for keyword, (top_ratio, low_ratio)in keyword_ratio_sorted:\n",
    "    print(\"{}: {:.3f}%, {:.3f}%, more than {:.3f}%\".format(keyword, top_ratio*100, low_ratio*100, (low_ratio - top_ratio)/top_ratio*100))"
   ]
  },
  {
   "cell_type": "code",
   "execution_count": 12,
   "metadata": {
    "ExecuteTime": {
     "end_time": "2018-07-09T08:51:46.700358Z",
     "start_time": "2018-07-09T08:51:46.679413Z"
    }
   },
   "outputs": [
    {
     "name": "stdout",
     "output_type": "stream",
     "text": [
      "block & 0.448 & 0.311 & bitcoin & 3.650 & 4.166 \\\\\n",
      "node & 0.168 & 0.092 & price & 0.410 & 0.608 \\\\\n",
      "core & 0.136 & 0.067 & btc & 0.682 & 0.831 \\\\\n",
      "miner & 0.258 & 0.202 & wallet & 0.435 & 0.548 \\\\\n",
      "segwit & 0.132 & 0.078 & good & 0.384 & 0.476 \\\\\n",
      "chain & 0.149 & 0.105 & crypto & 0.116 & 0.202 \\\\\n",
      "network & 0.261 & 0.219 & buy & 0.267 & 0.350 \\\\\n",
      "consensus & 0.060 & 0.024 & country & 0.167 & 0.249 \\\\\n",
      "code & 0.129 & 0.094 & now & 0.513 & 0.594 \\\\\n",
      "size & 0.101 & 0.067 & money & 0.533 & 0.610 \\\\\n",
      "satoshi & 0.189 & 0.155 & know & 0.489 & 0.562 \\\\\n",
      "bank & 0.325 & 0.296 & currency & 0.412 & 0.484 \\\\\n",
      "solution & 0.099 & 0.074 & coin & 0.490 & 0.557 \\\\\n",
      "full & 0.098 & 0.074 & market & 0.243 & 0.304 \\\\\n",
      "change & 0.181 & 0.158 & time & 0.571 & 0.628 \\\\\n",
      "foundation & 0.053 & 0.030 & invest & 0.051 & 0.106 \\\\\n",
      "blockstream & 0.030 & 0.007 & high & 0.122 & 0.171 \\\\\n",
      "limit & 0.074 & 0.051 & future & 0.165 & 0.212 \\\\\n",
      "fund & 0.133 & 0.111 & sell & 0.141 & 0.186 \\\\\n",
      "blockchain & 0.270 & 0.248 & use & 0.504 & 0.549 \\\\\n",
      "gavin & 0.041 & 0.019 & transaction & 0.621 & 0.664 \\\\\n",
      "system & 0.246 & 0.225 & cryptocurrency & 0.073 & 0.115 \\\\\n",
      "merchant & 0.087 & 0.067 & sure & 0.200 & 0.242 \\\\\n",
      "developer & 0.065 & 0.045 & investment & 0.087 & 0.128 \\\\\n",
      "franky & 0.037 & 0.017 & trading & 0.089 & 0.131 \\\\\n",
      "bip & 0.036 & 0.017 & exchange & 0.338 & 0.378 \\\\\n",
      "blocksize & 0.029 & 0.011 & profit & 0.094 & 0.134 \\\\\n",
      "protocol & 0.061 & 0.043 & fee & 0.360 & 0.399 \\\\\n",
      "business & 0.179 & 0.162 & news & 0.117 & 0.155 \\\\\n",
      "pool & 0.096 & 0.079 & happen & 0.121 & 0.158 \\\\\n"
     ]
    }
   ],
   "source": [
    "keyword_ratio_top = sorted(keyword_ratio.items(), key=lambda x: x[1][0] - x[1][1], reverse=True)[:30]\n",
    "keyword_ratio_low = sorted(keyword_ratio.items(), key=lambda x: x[1][1] - x[1][0], reverse=True)[:30]\n",
    "\n",
    "for i in range(len(keyword_ratio_top)):\n",
    "    print(\"{} & {:.3f} & {:.3f} & {} & {:.3f} & {:.3f} \\\\\\\\\".format(keyword_ratio_top[i][0], \n",
    "                                                  keyword_ratio_top[i][1][0] * 100, \n",
    "                                                  keyword_ratio_top[i][1][1] * 100,\n",
    "                                                  keyword_ratio_low[i][0], \n",
    "                                                  keyword_ratio_low[i][1][0] * 100, \n",
    "                                                  keyword_ratio_low[i][1][1] * 100))"
   ]
  },
  {
   "cell_type": "code",
   "execution_count": null,
   "metadata": {
    "collapsed": true
   },
   "outputs": [],
   "source": []
  }
 ],
 "metadata": {
  "kernelspec": {
   "display_name": "Python 3",
   "language": "python",
   "name": "python3"
  },
  "language_info": {
   "codemirror_mode": {
    "name": "ipython",
    "version": 3
   },
   "file_extension": ".py",
   "mimetype": "text/x-python",
   "name": "python",
   "nbconvert_exporter": "python",
   "pygments_lexer": "ipython3",
   "version": "3.6.5"
  },
  "varInspector": {
   "cols": {
    "lenName": 16,
    "lenType": 16,
    "lenVar": 40
   },
   "kernels_config": {
    "python": {
     "delete_cmd_postfix": "",
     "delete_cmd_prefix": "del ",
     "library": "var_list.py",
     "varRefreshCmd": "print(var_dic_list())"
    },
    "r": {
     "delete_cmd_postfix": ") ",
     "delete_cmd_prefix": "rm(",
     "library": "var_list.r",
     "varRefreshCmd": "cat(var_dic_list()) "
    }
   },
   "types_to_exclude": [
    "module",
    "function",
    "builtin_function_or_method",
    "instance",
    "_Feature"
   ],
   "window_display": false
  }
 },
 "nbformat": 4,
 "nbformat_minor": 2
}
