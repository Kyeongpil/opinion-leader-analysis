{
 "cells": [
  {
   "cell_type": "code",
   "execution_count": 1,
   "metadata": {
    "ExecuteTime": {
     "end_time": "2018-06-17T14:30:14.228084Z",
     "start_time": "2018-06-17T14:30:11.598708Z"
    },
    "collapsed": true
   },
   "outputs": [],
   "source": [
    "from sklearn.decomposition import NMF\n",
    "from sklearn.preprocessing import normalize\n",
    "from sklearn.feature_extraction.text import TfidfTransformer\n",
    "from scipy.sparse import dok_matrix\n",
    "from math import log10\n",
    "import numpy as np\n",
    "import networkx as nx\n",
    "import pickle"
   ]
  },
  {
   "cell_type": "code",
   "execution_count": 2,
   "metadata": {
    "ExecuteTime": {
     "end_time": "2018-06-17T14:30:19.705823Z",
     "start_time": "2018-06-17T14:30:14.239154Z"
    },
    "collapsed": true
   },
   "outputs": [],
   "source": [
    "with open(\"./preprocessed_bitcoin.pkl\", 'rb') as f:\n",
    "    data = pickle.load(f)\n",
    "\n",
    "voca2idx = {w: i for i, w in enumerate(data['voca'])}\n",
    "voca = data['voca']"
   ]
  },
  {
   "cell_type": "code",
   "execution_count": 3,
   "metadata": {
    "ExecuteTime": {
     "end_time": "2018-06-05T13:14:50.609922Z",
     "start_time": "2018-06-05T13:14:37.900310Z"
    },
    "collapsed": true
   },
   "outputs": [],
   "source": [
    "# user_score = nx.pagerank(data['user_network'], tol=1e-8, max_iter=200)\n",
    "hubs, user_score = nx.hits(data['user_network'], max_iter=500)\n",
    "total_user_num = len(data['user_network'].nodes())\n",
    "top_users = sorted(user_score, key=user_score.get, reverse=True)\n",
    "\n",
    "fwrite = open('hits_user_score_post_num.tsv', 'w')\n",
    "fwrite.write(\"id\\tlog id\\tuser\\tscore\\tpost num\\tget comment num\\twrite comment num\\n\")\n",
    "for i, user in enumerate(top_users):\n",
    "    fwrite.write(\"{}\\t{}\\t{}\\t{}\\t{}\\t{}\\t{}\\n\".format(\n",
    "        i + 1, log10(i+1), user, user_score[user], data['user_posts_num'][user], \n",
    "        data['get_comment_num'][user], data['write_comment_num'][user]))\n",
    "fwrite.close()\n",
    "# 전체 게시물 수와 상위유저+하위유저 게시물 갯수가 다른건 아예 소통이 없던 유저의 게시물이 있기 때문!"
   ]
  },
  {
   "cell_type": "code",
   "execution_count": null,
   "metadata": {
    "collapsed": true
   },
   "outputs": [],
   "source": []
  },
  {
   "cell_type": "code",
   "execution_count": 4,
   "metadata": {
    "ExecuteTime": {
     "end_time": "2018-06-05T13:21:01.851046Z",
     "start_time": "2018-06-05T13:15:07.730973Z"
    }
   },
   "outputs": [
    {
     "name": "stdout",
     "output_type": "stream",
     "text": [
      "(390572, 12021)\n"
     ]
    }
   ],
   "source": [
    "# 전체 유저 분석!\n",
    "tdm = dok_matrix((len(data['posts']), len(voca)), dtype=np.float32)\n",
    "for i, post in enumerate(data['posts']):\n",
    "    for word in post:\n",
    "        tdm[i, voca2idx[word]] += 1\n",
    "        \n",
    "tdm = normalize(tdm)\n",
    "tdm = tdm.tocsr()\n",
    "print(tdm.shape)"
   ]
  },
  {
   "cell_type": "code",
   "execution_count": 5,
   "metadata": {
    "ExecuteTime": {
     "end_time": "2018-06-05T13:26:52.457474Z",
     "start_time": "2018-06-05T13:21:27.117210Z"
    },
    "collapsed": true
   },
   "outputs": [],
   "source": [
    "K = 10\n",
    "nmf = NMF(n_components=K, alpha=0.1, max_iter=500)\n",
    "nmf.fit(tdm)\n",
    "H_total = nmf.components_"
   ]
  },
  {
   "cell_type": "code",
   "execution_count": null,
   "metadata": {
    "ExecuteTime": {
     "end_time": "2018-05-06T06:30:13.450414Z",
     "start_time": "2018-05-06T06:30:13.444948Z"
    },
    "collapsed": true
   },
   "outputs": [],
   "source": []
  },
  {
   "cell_type": "code",
   "execution_count": 6,
   "metadata": {
    "ExecuteTime": {
     "end_time": "2018-06-05T13:27:14.863967Z",
     "start_time": "2018-06-05T13:27:14.833140Z"
    }
   },
   "outputs": [
    {
     "name": "stdout",
     "output_type": "stream",
     "text": [
      "3636\n"
     ]
    }
   ],
   "source": [
    "# 상위 유저 분석!\n",
    "acc_sum = 0\n",
    "top_index = 0\n",
    "score_sum = sum(user_score.values())\n",
    "for i, top_user in enumerate(sorted(user_score, key=user_score.get, reverse=True)):\n",
    "    acc_sum += user_score[top_user]/score_sum\n",
    "    if acc_sum > 0.8:\n",
    "        top_index = i\n",
    "        break\n",
    "\n",
    "print(top_index)\n",
    "top_users = top_users[:top_index]"
   ]
  },
  {
   "cell_type": "code",
   "execution_count": 7,
   "metadata": {
    "ExecuteTime": {
     "end_time": "2018-06-05T13:27:34.422418Z",
     "start_time": "2018-06-05T13:27:34.358389Z"
    },
    "collapsed": true
   },
   "outputs": [],
   "source": [
    "user_posts = []\n",
    "for user in top_users:\n",
    "    for post in data['user_posts'][user]:\n",
    "        user_posts.append(post)"
   ]
  },
  {
   "cell_type": "code",
   "execution_count": 8,
   "metadata": {
    "ExecuteTime": {
     "end_time": "2018-06-05T13:31:07.424005Z",
     "start_time": "2018-06-05T13:27:55.315231Z"
    }
   },
   "outputs": [
    {
     "name": "stdout",
     "output_type": "stream",
     "text": [
      "(192292, 12021)\n"
     ]
    }
   ],
   "source": [
    "tdm = dok_matrix((len(user_posts), len(voca)), dtype=np.float32)\n",
    "for i, post in enumerate(user_posts):\n",
    "    for word in post:\n",
    "        tdm[i, voca2idx[word]] += 1\n",
    "        \n",
    "tdm = normalize(tdm)\n",
    "tdm = tdm.tocsr()\n",
    "print(tdm.shape)"
   ]
  },
  {
   "cell_type": "code",
   "execution_count": 9,
   "metadata": {
    "ExecuteTime": {
     "end_time": "2018-06-05T13:34:39.320342Z",
     "start_time": "2018-06-05T13:31:27.331982Z"
    },
    "collapsed": true
   },
   "outputs": [],
   "source": [
    "nmf = NMF(n_components=K, alpha=0.1, max_iter=500)\n",
    "nmf.fit(tdm)\n",
    "H_top = nmf.components_"
   ]
  },
  {
   "cell_type": "code",
   "execution_count": null,
   "metadata": {
    "collapsed": true
   },
   "outputs": [],
   "source": []
  },
  {
   "cell_type": "code",
   "execution_count": 10,
   "metadata": {
    "ExecuteTime": {
     "end_time": "2018-06-05T13:34:59.627466Z",
     "start_time": "2018-06-05T13:34:59.535169Z"
    },
    "collapsed": true
   },
   "outputs": [],
   "source": [
    "# 하위 유저 분석!\n",
    "low_users = sorted(user_score, key=user_score.get, reverse=False)[:-top_index]\n",
    "\n",
    "user_posts = []\n",
    "for user in low_users:\n",
    "    for post in data['user_posts'][user]:\n",
    "        user_posts.append(post)"
   ]
  },
  {
   "cell_type": "code",
   "execution_count": 11,
   "metadata": {
    "ExecuteTime": {
     "end_time": "2018-06-05T13:38:11.700466Z",
     "start_time": "2018-06-05T13:35:18.578770Z"
    }
   },
   "outputs": [
    {
     "name": "stdout",
     "output_type": "stream",
     "text": [
      "(197344, 12021)\n"
     ]
    }
   ],
   "source": [
    "tdm = dok_matrix((len(user_posts), len(voca)), dtype=np.float32)\n",
    "for i, post in enumerate(user_posts):\n",
    "    for word in post:\n",
    "        tdm[i, voca2idx[word]] += 1\n",
    "        \n",
    "tdm = normalize(tdm)\n",
    "tdm = tdm.tocsr()\n",
    "print(tdm.shape)"
   ]
  },
  {
   "cell_type": "code",
   "execution_count": 12,
   "metadata": {
    "ExecuteTime": {
     "end_time": "2018-06-05T13:40:41.503530Z",
     "start_time": "2018-06-05T13:38:31.370976Z"
    },
    "collapsed": true
   },
   "outputs": [],
   "source": [
    "nmf = NMF(n_components=K, alpha=0.1, max_iter=500)\n",
    "nmf.fit(tdm)\n",
    "H_low = nmf.components_"
   ]
  },
  {
   "cell_type": "code",
   "execution_count": null,
   "metadata": {
    "collapsed": true
   },
   "outputs": [],
   "source": []
  },
  {
   "cell_type": "code",
   "execution_count": 13,
   "metadata": {
    "ExecuteTime": {
     "end_time": "2018-06-05T13:41:12.475667Z",
     "start_time": "2018-06-05T13:41:12.241842Z"
    }
   },
   "outputs": [
    {
     "name": "stdout",
     "output_type": "stream",
     "text": [
      "total users: 0th topic\n",
      "bitcoin payment country use value accept world future cash using currency user buy government new news year gold accepting first \n",
      "top users: 0th topic, similarity - 0.9998469460740503\n",
      "bitcoin use payment currency accept using world value country user buy cash future government new accepting news fiat used business \n",
      "top users: 0th topic, similarity - 0.9998326214435246\n",
      "bitcoin country value future payment world use cash accept buy user year government currency using gold new fork first already \n",
      "\n",
      "total users: 1th topic\n",
      "time now good year right make block need day new long take first idea mining work look sure back already \n",
      "top users: 3th topic, similarity - 0.9688464324195369\n",
      "time now good make need year right new block take work day idea long first mining look sure change network \n",
      "top users: 9th topic, similarity - 0.7231921399591761\n",
      "time long take year block day first every last new next need back mining ago around month right wait hour \n",
      "\n",
      "total users: 2th topic\n",
      "btc buy exchange usd value amount sell fiat pay worth address day cash send back accept bch million account buying \n",
      "top users: 2th topic, similarity - 0.9996752056886784\n",
      "btc buy usd exchange amount pay value worth sell fiat cash send day accept back fee address million bch payment \n",
      "top users: 1th topic, similarity - 0.9997109371204705\n",
      "btc buy exchange usd value amount address sell fiat day worth cash back send pay fork bch million accept account \n",
      "\n",
      "total users: 3th topic\n",
      "transaction fee block miner network blockchain pay high confirmation size send amount chain address node problem confirmed mining low payment \n",
      "top users: 1th topic, similarity - 0.9919887105334394\n",
      "transaction fee block miner network size blockchain pay chain node confirmation mining high send segwit amount pool increase confirmed low \n",
      "top users: 3th topic, similarity - 0.994967263688937\n",
      "transaction fee block miner network pay high blockchain confirmation send address amount problem confirmed size low payment need use small \n",
      "\n",
      "total users: 4th topic\n",
      "wallet address use key private paper blockchain using need online safe send hardware password store keep info secure puter security \n",
      "top users: 4th topic, similarity - 0.9940130965957721\n",
      "wallet address key use private paper blockchain using send need online safe info password hardware puter public user store fund \n",
      "top users: 2th topic, similarity - 0.9975429808460763\n",
      "wallet use address key private blockchain paper using safe online need hardware send password keep store secure info file electrum \n",
      "\n",
      "total users: 5th topic\n",
      "price buy market sell increase high rise value exchange now year drop day higher profit demand low buying back month \n",
      "top users: 7th topic, similarity - 0.9950692309630449\n",
      "price buy market exchange sell now value day increase high rise year drop buying higher profit low trading back demand \n",
      "top users: 5th topic, similarity - 0.9971476356387141\n",
      "price buy market now sell increase high year rise drop value higher day profit demand low back month hold exchange \n",
      "\n",
      "total users: 6th topic\n",
      "money currency bank use make exchange government need fiat country account world crypto system value service digital buy market pay \n",
      "top users: 5th topic, similarity - 0.9900963644662252\n",
      "money bank currency use exchange government fiat make account system need country world value service crypto pay business digital dollar \n",
      "top users: 6th topic, similarity - 0.9948738779023804\n",
      "money currency bank make use exchange government country crypto need fiat world account system market value digital buy used dollar \n",
      "\n",
      "total users: 7th topic\n",
      "coin exchange fork new alt address value market lost sell satoshi chain buy million bit make mining back crypto miner \n",
      "top users: 6th topic, similarity - 0.9992473937360306\n",
      "coin exchange fork alt value satoshi address new chain lost market million sell mining mined back buy keep miner never \n",
      "top users: 7th topic, similarity - 0.9991879979890836\n",
      "coin exchange fork new address market alt value bit buy sell lost make back million mining chain crypto block miner \n",
      "\n",
      "total users: 8th topic\n",
      "get need back work pay take free idea site make try might trying sure help getting paid mining account point \n",
      "top users: 8th topic, similarity - 0.9978064119727278\n",
      "get back need pay work take buy try paid idea day free site getting might trying card help got everyone \n",
      "top users: 8th topic, similarity - 0.9988172463102285\n",
      "get need back work mining take free site account pay try make might idea sure got point better help miner \n",
      "\n",
      "total users: 9th topic\n",
      "know satoshi address sure dont work never site make already idea forum question need person thanks might find everyone mean \n",
      "top users: 9th topic, similarity - 0.9981373868319054\n",
      "know satoshi address sure never question already dont site work forum mean person might read find idea probably name real \n",
      "top users: 4th topic, similarity - 0.6572031855381905\n",
      "know good now right make idea news need year sure work look site satoshi new already day great better thanks \n",
      "\n",
      "0.993472717928 0.936247588644\n"
     ]
    }
   ],
   "source": [
    "from sklearn.metrics.pairwise import pairwise_distances\n",
    "from sklearn.metrics.pairwise import cosine_similarity\n",
    "from scipy.optimize import linear_sum_assignment\n",
    "\n",
    "top_distances = pairwise_distances(H_total, H_top, metric='cosine')\n",
    "_, top_indices = linear_sum_assignment(top_distances)\n",
    "\n",
    "low_distances = pairwise_distances(H_total, H_low, metric='cosine')\n",
    "_, low_indices = linear_sum_assignment(low_distances)\n",
    "\n",
    "top_similarity_average = 0\n",
    "low_similarity_average = 0\n",
    "for k in range(K):\n",
    "    top_similarity = cosine_similarity(H_top[top_indices[k]].reshape(1, -1), H_total[k].reshape(1,-1))[0, 0]\n",
    "    low_similarity = cosine_similarity(H_low[low_indices[k]].reshape(1, -1), H_total[k].reshape(1,-1))[0, 0]\n",
    "    top_similarity_average += top_similarity\n",
    "    low_similarity_average += low_similarity\n",
    "   \n",
    "    print(f\"total users: {k}th topic\")\n",
    "    for i in H_total[k, :].argsort()[::-1][:20]:\n",
    "        print(voca[i], end=' ')\n",
    "    print()\n",
    "    \n",
    "    print(f\"top users: {top_indices[k]}th topic, similarity - {top_similarity}\")\n",
    "    for i in H_top[top_indices[k]].argsort()[::-1][:20]:\n",
    "        print(voca[i], end=' ')\n",
    "    print()\n",
    "    \n",
    "    print(f\"top users: {low_indices[k]}th topic, similarity - {low_similarity}\")\n",
    "    for i in H_low[low_indices[k]].argsort()[::-1][:20]:\n",
    "        print(voca[i], end=' ')\n",
    "    print()\n",
    "    \n",
    "    print()\n",
    "    \n",
    "top_similarity_average /= K\n",
    "low_similarity_average /= K\n",
    "\n",
    "print(top_similarity_average, low_similarity_average)"
   ]
  },
  {
   "cell_type": "code",
   "execution_count": null,
   "metadata": {
    "collapsed": true
   },
   "outputs": [],
   "source": []
  }
 ],
 "metadata": {
  "kernelspec": {
   "display_name": "Python 3",
   "language": "python",
   "name": "python3"
  },
  "language_info": {
   "codemirror_mode": {
    "name": "ipython",
    "version": 3
   },
   "file_extension": ".py",
   "mimetype": "text/x-python",
   "name": "python",
   "nbconvert_exporter": "python",
   "pygments_lexer": "ipython3",
   "version": "3.6.5"
  },
  "varInspector": {
   "cols": {
    "lenName": 16,
    "lenType": 16,
    "lenVar": 40
   },
   "kernels_config": {
    "python": {
     "delete_cmd_postfix": "",
     "delete_cmd_prefix": "del ",
     "library": "var_list.py",
     "varRefreshCmd": "print(var_dic_list())"
    },
    "r": {
     "delete_cmd_postfix": ") ",
     "delete_cmd_prefix": "rm(",
     "library": "var_list.r",
     "varRefreshCmd": "cat(var_dic_list()) "
    }
   },
   "types_to_exclude": [
    "module",
    "function",
    "builtin_function_or_method",
    "instance",
    "_Feature"
   ],
   "window_display": false
  }
 },
 "nbformat": 4,
 "nbformat_minor": 2
}
